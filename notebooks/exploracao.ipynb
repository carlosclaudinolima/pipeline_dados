{
 "cells": [
  {
   "cell_type": "markdown",
   "id": "4b6f58ca",
   "metadata": {},
   "source": [
    "#lendo os dados"
   ]
  },
  {
   "cell_type": "markdown",
   "id": "9b97fdb4",
   "metadata": {},
   "source": [
    "# Lendo os dados"
   ]
  },
  {
   "cell_type": "markdown",
   "id": "85f0b2bb",
   "metadata": {},
   "source": [
    "## JSON da empresa A"
   ]
  },
  {
   "cell_type": "code",
   "execution_count": 169,
   "id": "f93ec776",
   "metadata": {},
   "outputs": [],
   "source": [
    "url_empresa_a = '../data_raw/dados_empresaA.json'"
   ]
  },
  {
   "cell_type": "code",
   "execution_count": 170,
   "id": "749d9d3a",
   "metadata": {},
   "outputs": [],
   "source": [
    "import json as jn"
   ]
  },
  {
   "cell_type": "code",
   "execution_count": 171,
   "id": "8d287543",
   "metadata": {},
   "outputs": [],
   "source": [
    "with open(url_empresa_a) as arquivo_a:\n",
    "    lista_a = jn.load(arquivo_a)"
   ]
  },
  {
   "cell_type": "markdown",
   "id": "47ef085f",
   "metadata": {},
   "source": [
    "## CSV da empresa B"
   ]
  },
  {
   "cell_type": "code",
   "execution_count": 172,
   "id": "7fde3f91",
   "metadata": {},
   "outputs": [],
   "source": [
    "url_empresa_b = '../data_raw/dados_empresaB.csv'"
   ]
  },
  {
   "cell_type": "code",
   "execution_count": 173,
   "id": "2fecd5dc",
   "metadata": {},
   "outputs": [],
   "source": [
    "import csv"
   ]
  },
  {
   "cell_type": "code",
   "execution_count": 174,
   "id": "7584959f",
   "metadata": {},
   "outputs": [],
   "source": [
    "lista_b = []\n",
    "with open(url_empresa_b, 'r') as arquivo_b:\n",
    "    csv_b = csv.reader(arquivo_b)    \n",
    "    for linha_b in csv_b:\n",
    "        lista_b.append(linha_b)"
   ]
  },
  {
   "cell_type": "code",
   "execution_count": 175,
   "id": "527a1138",
   "metadata": {},
   "outputs": [],
   "source": [
    "# vamos ler como lista de dicionário invés de lista de listas, utilizando o método DictRead()\n",
    "lista_b = []\n",
    "with open(url_empresa_b, 'r') as arquivo_b:\n",
    "    csv_b = csv.DictReader(arquivo_b)  \n",
    "    for linha in csv_b:\n",
    "        lista_b.append(linha)"
   ]
  },
  {
   "cell_type": "code",
   "execution_count": 176,
   "id": "c409dd44",
   "metadata": {},
   "outputs": [],
   "source": [
    "nome_colunas_a = list(lista_a[0].keys())\n",
    "nome_colunas_b = lista_b[0]"
   ]
  },
  {
   "cell_type": "code",
   "execution_count": 177,
   "id": "be42398a",
   "metadata": {},
   "outputs": [
    {
     "data": {
      "text/plain": [
       "['Nome do Produto',\n",
       " 'Categoria do Produto',\n",
       " 'Preço do Produto (R$)',\n",
       " 'Quantidade em Estoque',\n",
       " 'Filial']"
      ]
     },
     "execution_count": 177,
     "metadata": {},
     "output_type": "execute_result"
    }
   ],
   "source": [
    "nome_colunas_a"
   ]
  },
  {
   "cell_type": "code",
   "execution_count": 178,
   "id": "a73dbd00",
   "metadata": {},
   "outputs": [
    {
     "data": {
      "text/plain": [
       "{'Nome do Item': 'Lápis de sobrancelha',\n",
       " 'Classificação do Produto': 'Roupas',\n",
       " 'Valor em Reais (R$)': '55.17',\n",
       " 'Quantidade em Estoque': '62',\n",
       " 'Nome da Loja': 'Filial 1',\n",
       " 'Data da Venda': '2023-04-13 18:58:06.794203'}"
      ]
     },
     "execution_count": 178,
     "metadata": {},
     "output_type": "execute_result"
    }
   ],
   "source": [
    "nome_colunas_b"
   ]
  },
  {
   "cell_type": "code",
   "execution_count": 179,
   "id": "bff55c9e",
   "metadata": {},
   "outputs": [],
   "source": [
    "key_mapping = {\n",
    "    'Nome do Item':'Nome do Produto',\n",
    "    'Classificação do Produto':'Categoria do Produto',\n",
    "    'Valor em Reais (R$)':'Preço do Produto (R$)',\n",
    "    'Quantidade em Estoque':'Quantidade em Estoque',\n",
    "    'Nome da Loja': 'Filial',\n",
    "    'Data da Venda':'Data da Venda'\n",
    "}"
   ]
  },
  {
   "cell_type": "code",
   "execution_count": 180,
   "id": "e1026230",
   "metadata": {},
   "outputs": [],
   "source": [
    "new_dados_csv = []\n",
    "for old_dict in lista_b:\n",
    "    dict_temp = {}\n",
    "    for old_key, value in old_dict.items():\n",
    "        dict_temp[key_mapping[old_key]] = value\n",
    "    new_dados_csv.append(dict_temp)"
   ]
  },
  {
   "cell_type": "code",
   "execution_count": 181,
   "id": "4b8ebf52",
   "metadata": {},
   "outputs": [
    {
     "data": {
      "text/plain": [
       "{'Nome do Produto': 'Lápis de sobrancelha',\n",
       " 'Categoria do Produto': 'Roupas',\n",
       " 'Preço do Produto (R$)': '55.17',\n",
       " 'Quantidade em Estoque': '62',\n",
       " 'Filial': 'Filial 1',\n",
       " 'Data da Venda': '2023-04-13 18:58:06.794203'}"
      ]
     },
     "execution_count": 181,
     "metadata": {},
     "output_type": "execute_result"
    }
   ],
   "source": [
    "new_dados_csv[0]"
   ]
  },
  {
   "cell_type": "code",
   "execution_count": 182,
   "id": "be32f7bf",
   "metadata": {},
   "outputs": [
    {
     "data": {
      "text/plain": [
       "4446"
      ]
     },
     "execution_count": 182,
     "metadata": {},
     "output_type": "execute_result"
    }
   ],
   "source": [
    "combined_list = []\n",
    "combined_list.extend(lista_a)\n",
    "combined_list.extend(new_dados_csv)\n",
    "len(combined_list)"
   ]
  },
  {
   "cell_type": "code",
   "execution_count": 183,
   "id": "b0760932",
   "metadata": {},
   "outputs": [
    {
     "data": {
      "text/plain": [
       "['Nome do Produto',\n",
       " 'Categoria do Produto',\n",
       " 'Preço do Produto (R$)',\n",
       " 'Quantidade em Estoque',\n",
       " 'Filial',\n",
       " 'Data da Venda']"
      ]
     },
     "execution_count": 183,
     "metadata": {},
     "output_type": "execute_result"
    }
   ],
   "source": [
    "nomes_colunas = list(combined_list[-1].keys())\n",
    "nomes_colunas"
   ]
  },
  {
   "cell_type": "code",
   "execution_count": 184,
   "id": "f23e9f54",
   "metadata": {},
   "outputs": [],
   "source": [
    "# O método get não lança KeyError quando não encontra a chave no dict\n",
    "dados_combinados_tabela = [nomes_colunas]\n",
    "for row in combined_list:\n",
    "    linha = []\n",
    "    for col in nomes_colunas:\n",
    "        linha.append(row.get(col, 'Indisponível'))\n",
    "    dados_combinados_tabela.append(linha)"
   ]
  },
  {
   "cell_type": "code",
   "execution_count": 185,
   "id": "87baf69b",
   "metadata": {},
   "outputs": [
    {
     "data": {
      "text/plain": [
       "['Nome do Produto',\n",
       " 'Categoria do Produto',\n",
       " 'Preço do Produto (R$)',\n",
       " 'Quantidade em Estoque',\n",
       " 'Filial',\n",
       " 'Data da Venda']"
      ]
     },
     "execution_count": 185,
     "metadata": {},
     "output_type": "execute_result"
    }
   ],
   "source": [
    "dados_combinados_tabela[0]"
   ]
  },
  {
   "cell_type": "code",
   "execution_count": 186,
   "id": "3511c5f0",
   "metadata": {},
   "outputs": [
    {
     "data": {
      "text/plain": [
       "['Blush em pó', 'Eletrodomésticos', 79.41, 7, 'Filial 7', 'Indisponível']"
      ]
     },
     "execution_count": 186,
     "metadata": {},
     "output_type": "execute_result"
    }
   ],
   "source": [
    "dados_combinados_tabela[1]"
   ]
  },
  {
   "cell_type": "code",
   "execution_count": 187,
   "id": "13ed4910",
   "metadata": {},
   "outputs": [
    {
     "data": {
      "text/plain": [
       "['Sombra de olhos',\n",
       " 'Eletrônicos',\n",
       " '41.73',\n",
       " '5',\n",
       " 'Filial 6',\n",
       " '2022-11-21 18:58:06.794203']"
      ]
     },
     "execution_count": 187,
     "metadata": {},
     "output_type": "execute_result"
    }
   ],
   "source": [
    "dados_combinados_tabela[-1]"
   ]
  },
  {
   "cell_type": "code",
   "execution_count": 188,
   "id": "ca3cebc6",
   "metadata": {},
   "outputs": [],
   "source": [
    "path_dados_combinados = '../data_processed/dados_combinados.csv'"
   ]
  },
  {
   "cell_type": "code",
   "execution_count": 191,
   "id": "65f77728",
   "metadata": {},
   "outputs": [],
   "source": [
    "with open(path_dados_combinados, 'w') as arquivo_dados:\n",
    "    writer = csv.writer(arquivo_dados)\n",
    "    writer.writerows(dados_combinados_tabela)\n"
   ]
  },
  {
   "cell_type": "code",
   "execution_count": null,
   "id": "62cf043b",
   "metadata": {},
   "outputs": [],
   "source": []
  }
 ],
 "metadata": {
  "kernelspec": {
   "display_name": ".venv",
   "language": "python",
   "name": "python3"
  },
  "language_info": {
   "codemirror_mode": {
    "name": "ipython",
    "version": 3
   },
   "file_extension": ".py",
   "mimetype": "text/x-python",
   "name": "python",
   "nbconvert_exporter": "python",
   "pygments_lexer": "ipython3",
   "version": "3.10.12"
  }
 },
 "nbformat": 4,
 "nbformat_minor": 5
}
